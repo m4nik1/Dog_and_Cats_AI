{
 "cells": [
  {
   "cell_type": "code",
   "execution_count": 3,
   "metadata": {},
   "outputs": [
    {
     "name": "stderr",
     "output_type": "stream",
     "text": [
      "Using TensorFlow backend.\n"
     ]
    }
   ],
   "source": [
    "from keras.models import Sequential\n",
    "from keras.layers import MaxPooling2D, Flatten, Conv2D,Dense\n",
    "from keras.preprocessing.image import ImageDataGenerator\n",
    "\n",
    "import numpy as np\n",
    "import os"
   ]
  },
  {
   "cell_type": "code",
   "execution_count": 4,
   "metadata": {},
   "outputs": [
    {
     "name": "stdout",
     "output_type": "stream",
     "text": [
      "['.DS_Store', 'Images', 'Annotation']\n"
     ]
    }
   ],
   "source": [
    "print(os.listdir(\"stanford-dogs-dataset\"))"
   ]
  },
  {
   "cell_type": "code",
   "execution_count": 5,
   "metadata": {},
   "outputs": [
    {
     "name": "stdout",
     "output_type": "stream",
     "text": [
      "['n02097658-silky_terrier', 'n02092002-Scottish_deerhound', 'n02099849-Chesapeake_Bay_retriever', 'n02091244-Ibizan_hound', 'n02095314-wire-haired_fox_terrier']\n"
     ]
    }
   ],
   "source": [
    "print(os.listdir('stanford-dogs-dataset/images')[:5])"
   ]
  },
  {
   "cell_type": "code",
   "execution_count": 6,
   "metadata": {},
   "outputs": [
    {
     "name": "stdout",
     "output_type": "stream",
     "text": [
      "121\n"
     ]
    }
   ],
   "source": [
    "print(len(os.listdir('stanford-dogs-dataset/images')))"
   ]
  },
  {
   "cell_type": "code",
   "execution_count": 7,
   "metadata": {},
   "outputs": [],
   "source": [
    "classifier = Sequential()"
   ]
  },
  {
   "cell_type": "code",
   "execution_count": 8,
   "metadata": {},
   "outputs": [],
   "source": [
    "classifier.add(Conv2D(64, (3, 3), input_shape=(64, 64, 3), activation='relu'))\n",
    "classifier.add(MaxPooling2D(pool_size=(2, 2)))"
   ]
  },
  {
   "cell_type": "code",
   "execution_count": 9,
   "metadata": {},
   "outputs": [],
   "source": [
    "classifier.add(Conv2D(32, (3,3), activation='relu'))\n",
    "classifier.add(MaxPooling2D(pool_size=(2, 2)))"
   ]
  },
  {
   "cell_type": "code",
   "execution_count": 10,
   "metadata": {},
   "outputs": [],
   "source": [
    "classifier.add(Flatten())"
   ]
  },
  {
   "cell_type": "code",
   "execution_count": 11,
   "metadata": {},
   "outputs": [],
   "source": [
    "#classifier.add(Dense(units='256', activation='relu'))\n",
    "classifier.add(Dense(units=290, activation='relu'))\n",
    "classifier.add(Dense(units=313, activation='relu'))\n",
    "classifier.add(Dense(units=120, activation='softmax'))"
   ]
  },
  {
   "cell_type": "code",
   "execution_count": 12,
   "metadata": {},
   "outputs": [],
   "source": [
    "classifier.compile(optimizer='adam', loss='categorical_crossentropy', metrics=['accuracy'])"
   ]
  },
  {
   "cell_type": "code",
   "execution_count": 13,
   "metadata": {},
   "outputs": [],
   "source": [
    "datagen = ImageDataGenerator(rotation_range=15, validation_split=.2, rescale=1./255)"
   ]
  },
  {
   "cell_type": "code",
   "execution_count": 14,
   "metadata": {},
   "outputs": [
    {
     "name": "stdout",
     "output_type": "stream",
     "text": [
      "Found 16508 images belonging to 120 classes.\n",
      "Found 4072 images belonging to 120 classes.\n"
     ]
    }
   ],
   "source": [
    "train_generator = datagen.flow_from_directory('stanford-dogs-dataset/images', \n",
    "                                                    class_mode='categorical', \n",
    "                                                    target_size=(64, 64), \n",
    "                                                    subset='training',\n",
    "                                                    shuffle=True)\n",
    "test_generator = datagen.flow_from_directory('stanford-dogs-dataset/images',\n",
    "                                            subset='validation',\n",
    "                                            class_mode='categorical',\n",
    "                                            target_size=(64,64),\n",
    "                                            shuffle=True)\n",
    "# flows the folders as categorical variables to tie to image inside them\n",
    "\n"
   ]
  },
  {
   "cell_type": "code",
   "execution_count": null,
   "metadata": {},
   "outputs": [],
   "source": []
  },
  {
   "cell_type": "code",
   "execution_count": 15,
   "metadata": {},
   "outputs": [],
   "source": [
    "steps_training = train_generator.n/train_generator.batch_size\n",
    "steps_test = test_generator.n/test_generator.batch_size"
   ]
  },
  {
   "cell_type": "code",
   "execution_count": 19,
   "metadata": {},
   "outputs": [
    {
     "name": "stdout",
     "output_type": "stream",
     "text": [
      "Epoch 1/120\n",
      "516/515 [==============================] - 151s 293ms/step - loss: 4.4568 - acc: 0.0347 - val_loss: 4.4244 - val_acc: 0.0359\n",
      "Epoch 2/120\n",
      "516/515 [==============================] - 142s 276ms/step - loss: 4.2605 - acc: 0.0548 - val_loss: 4.3299 - val_acc: 0.0518\n",
      "Epoch 3/120\n",
      "516/515 [==============================] - 142s 276ms/step - loss: 4.0530 - acc: 0.0854 - val_loss: 4.2902 - val_acc: 0.0592\n",
      "Epoch 4/120\n",
      "516/515 [==============================] - 142s 275ms/step - loss: 3.8468 - acc: 0.1143 - val_loss: 4.2359 - val_acc: 0.0727\n",
      "Epoch 5/120\n",
      "516/515 [==============================] - 142s 276ms/step - loss: 3.6172 - acc: 0.1536 - val_loss: 4.2691 - val_acc: 0.0744\n",
      "Epoch 6/120\n",
      "516/515 [==============================] - 142s 275ms/step - loss: 3.3323 - acc: 0.2024 - val_loss: 4.4267 - val_acc: 0.0754\n",
      "Epoch 7/120\n",
      "516/515 [==============================] - 142s 275ms/step - loss: 3.0292 - acc: 0.2638 - val_loss: 4.6547 - val_acc: 0.0717\n",
      "Epoch 8/120\n",
      "516/515 [==============================] - 142s 275ms/step - loss: 2.7060 - acc: 0.3310 - val_loss: 4.9200 - val_acc: 0.0766\n",
      "Epoch 9/120\n",
      "516/515 [==============================] - 142s 275ms/step - loss: 2.3945 - acc: 0.3980 - val_loss: 5.2396 - val_acc: 0.0747\n",
      "Epoch 10/120\n",
      "516/515 [==============================] - 141s 274ms/step - loss: 2.1199 - acc: 0.4616 - val_loss: 5.4963 - val_acc: 0.0820\n",
      "Epoch 11/120\n",
      "516/515 [==============================] - 142s 275ms/step - loss: 1.8861 - acc: 0.5146 - val_loss: 5.7704 - val_acc: 0.0739\n",
      "Epoch 12/120\n",
      "516/515 [==============================] - 142s 275ms/step - loss: 1.6455 - acc: 0.5764 - val_loss: 6.1740 - val_acc: 0.0739\n",
      "Epoch 13/120\n",
      "516/515 [==============================] - 142s 274ms/step - loss: 1.4562 - acc: 0.6176 - val_loss: 6.4875 - val_acc: 0.0707\n",
      "Epoch 14/120\n",
      "516/515 [==============================] - 142s 274ms/step - loss: 1.2911 - acc: 0.6610 - val_loss: 7.0170 - val_acc: 0.0690\n",
      "Epoch 15/120\n",
      "516/515 [==============================] - 142s 274ms/step - loss: 1.1449 - acc: 0.6947 - val_loss: 7.3942 - val_acc: 0.0636\n",
      "Epoch 16/120\n",
      "516/515 [==============================] - 142s 274ms/step - loss: 1.0352 - acc: 0.7214 - val_loss: 7.5701 - val_acc: 0.0712\n",
      "Epoch 17/120\n",
      "516/515 [==============================] - 141s 274ms/step - loss: 0.9564 - acc: 0.7375 - val_loss: 7.7826 - val_acc: 0.0702\n",
      "Epoch 18/120\n",
      "516/515 [==============================] - 142s 275ms/step - loss: 0.8679 - acc: 0.7639 - val_loss: 8.1106 - val_acc: 0.0678\n",
      "Epoch 19/120\n",
      "516/515 [==============================] - 141s 274ms/step - loss: 0.7860 - acc: 0.7864 - val_loss: 8.2858 - val_acc: 0.0695\n",
      "Epoch 20/120\n",
      "516/515 [==============================] - 142s 275ms/step - loss: 0.7234 - acc: 0.8001 - val_loss: 8.5317 - val_acc: 0.0666\n",
      "Epoch 21/120\n",
      "516/515 [==============================] - 141s 274ms/step - loss: 0.6684 - acc: 0.8165 - val_loss: 8.7108 - val_acc: 0.0702\n",
      "Epoch 22/120\n",
      "516/515 [==============================] - 141s 274ms/step - loss: 0.6376 - acc: 0.8236 - val_loss: 8.9825 - val_acc: 0.0675\n",
      "Epoch 23/120\n",
      "516/515 [==============================] - 142s 274ms/step - loss: 0.5866 - acc: 0.8365 - val_loss: 9.1366 - val_acc: 0.0712\n",
      "Epoch 24/120\n",
      "516/515 [==============================] - 142s 275ms/step - loss: 0.5737 - acc: 0.8398 - val_loss: 9.0287 - val_acc: 0.0702\n",
      "Epoch 25/120\n",
      "516/515 [==============================] - 142s 275ms/step - loss: 0.5291 - acc: 0.8548 - val_loss: 9.2320 - val_acc: 0.0707\n",
      "Epoch 26/120\n",
      "516/515 [==============================] - 141s 274ms/step - loss: 0.4928 - acc: 0.8643 - val_loss: 9.4700 - val_acc: 0.0683\n",
      "Epoch 27/120\n",
      "516/515 [==============================] - 141s 274ms/step - loss: 0.5032 - acc: 0.8603 - val_loss: 9.6308 - val_acc: 0.0621\n",
      "Epoch 28/120\n",
      "516/515 [==============================] - 141s 273ms/step - loss: 0.4668 - acc: 0.8699 - val_loss: 9.7985 - val_acc: 0.0670\n",
      "Epoch 29/120\n",
      "516/515 [==============================] - 142s 275ms/step - loss: 0.4451 - acc: 0.8745 - val_loss: 9.7482 - val_acc: 0.0673\n",
      "Epoch 30/120\n",
      "516/515 [==============================] - 142s 274ms/step - loss: 0.4184 - acc: 0.8839 - val_loss: 10.0486 - val_acc: 0.0702\n",
      "Epoch 31/120\n",
      "516/515 [==============================] - 143s 276ms/step - loss: 0.4133 - acc: 0.8862 - val_loss: 10.0720 - val_acc: 0.0715\n",
      "Epoch 32/120\n",
      "516/515 [==============================] - 142s 275ms/step - loss: 0.4154 - acc: 0.8839 - val_loss: 9.8112 - val_acc: 0.0712\n",
      "Epoch 33/120\n",
      "516/515 [==============================] - 141s 274ms/step - loss: 0.3874 - acc: 0.8927 - val_loss: 10.1632 - val_acc: 0.0661\n",
      "Epoch 34/120\n",
      "516/515 [==============================] - 141s 274ms/step - loss: 0.3967 - acc: 0.8866 - val_loss: 10.0521 - val_acc: 0.0685\n",
      "Epoch 35/120\n",
      "516/515 [==============================] - 141s 273ms/step - loss: 0.3709 - acc: 0.8961 - val_loss: 10.3322 - val_acc: 0.0658\n",
      "Epoch 36/120\n",
      "516/515 [==============================] - 141s 274ms/step - loss: 0.3518 - acc: 0.8993 - val_loss: 10.3102 - val_acc: 0.0658\n",
      "Epoch 37/120\n",
      "516/515 [==============================] - 142s 275ms/step - loss: 0.3411 - acc: 0.9048 - val_loss: 10.2297 - val_acc: 0.0680\n",
      "Epoch 38/120\n",
      "516/515 [==============================] - 141s 274ms/step - loss: 0.3620 - acc: 0.8967 - val_loss: 10.3735 - val_acc: 0.0764\n",
      "Epoch 39/120\n",
      "516/515 [==============================] - 141s 274ms/step - loss: 0.3307 - acc: 0.9078 - val_loss: 10.5740 - val_acc: 0.0751\n",
      "Epoch 40/120\n",
      "516/515 [==============================] - 142s 275ms/step - loss: 0.3211 - acc: 0.9059 - val_loss: 10.5716 - val_acc: 0.0705\n",
      "Epoch 41/120\n",
      "516/515 [==============================] - 142s 275ms/step - loss: 0.3464 - acc: 0.9020 - val_loss: 10.5441 - val_acc: 0.0624\n",
      "Epoch 42/120\n",
      "516/515 [==============================] - 142s 275ms/step - loss: 0.2977 - acc: 0.9132 - val_loss: 10.7065 - val_acc: 0.0661\n",
      "Epoch 43/120\n",
      "516/515 [==============================] - 141s 274ms/step - loss: 0.3173 - acc: 0.9082 - val_loss: 10.5061 - val_acc: 0.0666\n",
      "Epoch 44/120\n",
      "516/515 [==============================] - 141s 274ms/step - loss: 0.3017 - acc: 0.9157 - val_loss: 10.8638 - val_acc: 0.0639\n",
      "Epoch 45/120\n",
      "516/515 [==============================] - 142s 275ms/step - loss: 0.2892 - acc: 0.9174 - val_loss: 10.6382 - val_acc: 0.0651\n",
      "Epoch 46/120\n",
      "516/515 [==============================] - 142s 275ms/step - loss: 0.2853 - acc: 0.9194 - val_loss: 10.8649 - val_acc: 0.0663\n",
      "Epoch 47/120\n",
      "516/515 [==============================] - 141s 274ms/step - loss: 0.2995 - acc: 0.9150 - val_loss: 10.6606 - val_acc: 0.0678\n",
      "Epoch 48/120\n",
      "516/515 [==============================] - 141s 274ms/step - loss: 0.2748 - acc: 0.9193 - val_loss: 10.7850 - val_acc: 0.0648\n",
      "Epoch 49/120\n",
      "516/515 [==============================] - 141s 273ms/step - loss: 0.2693 - acc: 0.9210 - val_loss: 10.8047 - val_acc: 0.0688\n",
      "Epoch 50/120\n",
      "516/515 [==============================] - 141s 274ms/step - loss: 0.2553 - acc: 0.9262 - val_loss: 10.8913 - val_acc: 0.0673\n",
      "Epoch 51/120\n",
      "516/515 [==============================] - 141s 273ms/step - loss: 0.2627 - acc: 0.9239 - val_loss: 10.9492 - val_acc: 0.0702\n",
      "Epoch 52/120\n",
      "516/515 [==============================] - 141s 273ms/step - loss: 0.2490 - acc: 0.9299 - val_loss: 10.8682 - val_acc: 0.0695\n",
      "Epoch 53/120\n",
      "516/515 [==============================] - 142s 275ms/step - loss: 0.2590 - acc: 0.9255 - val_loss: 10.9972 - val_acc: 0.0673\n",
      "Epoch 54/120\n",
      "516/515 [==============================] - 141s 274ms/step - loss: 0.2729 - acc: 0.9234 - val_loss: 11.0137 - val_acc: 0.0683\n",
      "Epoch 55/120\n",
      "516/515 [==============================] - 141s 273ms/step - loss: 0.2290 - acc: 0.9328 - val_loss: 11.1328 - val_acc: 0.0651\n",
      "Epoch 56/120\n",
      "516/515 [==============================] - 141s 273ms/step - loss: 0.2392 - acc: 0.9297 - val_loss: 11.1223 - val_acc: 0.0639\n",
      "Epoch 57/120\n",
      "516/515 [==============================] - 141s 273ms/step - loss: 0.2415 - acc: 0.9300 - val_loss: 11.2774 - val_acc: 0.0710\n",
      "Epoch 58/120\n",
      "516/515 [==============================] - 141s 274ms/step - loss: 0.2422 - acc: 0.9319 - val_loss: 11.0315 - val_acc: 0.0651\n",
      "Epoch 59/120\n",
      "516/515 [==============================] - 141s 274ms/step - loss: 0.2576 - acc: 0.9254 - val_loss: 11.1163 - val_acc: 0.0668\n",
      "Epoch 60/120\n"
     ]
    },
    {
     "name": "stdout",
     "output_type": "stream",
     "text": [
      "516/515 [==============================] - 142s 275ms/step - loss: 0.2073 - acc: 0.9397 - val_loss: 11.2867 - val_acc: 0.0651\n",
      "Epoch 61/120\n",
      "516/515 [==============================] - 141s 273ms/step - loss: 0.2334 - acc: 0.9333 - val_loss: 11.3926 - val_acc: 0.0636\n",
      "Epoch 62/120\n",
      "516/515 [==============================] - 141s 273ms/step - loss: 0.2318 - acc: 0.9348 - val_loss: 11.3569 - val_acc: 0.0688\n",
      "Epoch 63/120\n",
      "516/515 [==============================] - 141s 273ms/step - loss: 0.2206 - acc: 0.9344 - val_loss: 11.3951 - val_acc: 0.0680\n",
      "Epoch 64/120\n",
      "516/515 [==============================] - 141s 274ms/step - loss: 0.2116 - acc: 0.9370 - val_loss: 11.4112 - val_acc: 0.0678\n",
      "Epoch 65/120\n",
      "516/515 [==============================] - 142s 274ms/step - loss: 0.2207 - acc: 0.9363 - val_loss: 11.4643 - val_acc: 0.0641\n",
      "Epoch 66/120\n",
      "516/515 [==============================] - 142s 274ms/step - loss: 0.2305 - acc: 0.9328 - val_loss: 11.2079 - val_acc: 0.0639\n",
      "Epoch 67/120\n",
      "516/515 [==============================] - 142s 275ms/step - loss: 0.2046 - acc: 0.9405 - val_loss: 11.3556 - val_acc: 0.0693\n",
      "Epoch 68/120\n",
      "516/515 [==============================] - 141s 274ms/step - loss: 0.1937 - acc: 0.9457 - val_loss: 11.3271 - val_acc: 0.0707\n",
      "Epoch 69/120\n",
      "516/515 [==============================] - 142s 274ms/step - loss: 0.1945 - acc: 0.9440 - val_loss: 11.3098 - val_acc: 0.0688\n",
      "Epoch 70/120\n",
      "516/515 [==============================] - 141s 274ms/step - loss: 0.2146 - acc: 0.9392 - val_loss: 11.3222 - val_acc: 0.0666\n",
      "Epoch 71/120\n",
      "516/515 [==============================] - 141s 274ms/step - loss: 0.1868 - acc: 0.9447 - val_loss: 11.4495 - val_acc: 0.0690\n",
      "Epoch 72/120\n",
      "516/515 [==============================] - 141s 274ms/step - loss: 0.1894 - acc: 0.9462 - val_loss: 11.3442 - val_acc: 0.0678\n",
      "Epoch 73/120\n",
      "516/515 [==============================] - 141s 273ms/step - loss: 0.2402 - acc: 0.9329 - val_loss: 11.3108 - val_acc: 0.0683\n",
      "Epoch 74/120\n",
      "516/515 [==============================] - 141s 273ms/step - loss: 0.1982 - acc: 0.9426 - val_loss: 11.4128 - val_acc: 0.0700\n",
      "Epoch 75/120\n",
      "516/515 [==============================] - 141s 274ms/step - loss: 0.2060 - acc: 0.9401 - val_loss: 11.3490 - val_acc: 0.0744\n",
      "Epoch 76/120\n",
      "516/515 [==============================] - 141s 274ms/step - loss: 0.1793 - acc: 0.9481 - val_loss: 11.5122 - val_acc: 0.0675\n",
      "Epoch 77/120\n",
      "516/515 [==============================] - 142s 274ms/step - loss: 0.2027 - acc: 0.9437 - val_loss: 11.3632 - val_acc: 0.0685\n",
      "Epoch 78/120\n",
      "516/515 [==============================] - 141s 274ms/step - loss: 0.1823 - acc: 0.9499 - val_loss: 11.5161 - val_acc: 0.0675\n",
      "Epoch 79/120\n",
      "516/515 [==============================] - 141s 274ms/step - loss: 0.1847 - acc: 0.9456 - val_loss: 11.7117 - val_acc: 0.0599\n",
      "Epoch 80/120\n",
      "516/515 [==============================] - 141s 274ms/step - loss: 0.1949 - acc: 0.9440 - val_loss: 11.5484 - val_acc: 0.0648\n",
      "Epoch 81/120\n",
      "516/515 [==============================] - 140s 272ms/step - loss: 0.1906 - acc: 0.9463 - val_loss: 11.5696 - val_acc: 0.0678\n",
      "Epoch 82/120\n",
      "516/515 [==============================] - 141s 273ms/step - loss: 0.1853 - acc: 0.9432 - val_loss: 11.7747 - val_acc: 0.0651\n",
      "Epoch 83/120\n",
      "516/515 [==============================] - 141s 274ms/step - loss: 0.1748 - acc: 0.9505 - val_loss: 11.6822 - val_acc: 0.0700\n",
      "Epoch 84/120\n",
      "516/515 [==============================] - 142s 274ms/step - loss: 0.1797 - acc: 0.9483 - val_loss: 11.6853 - val_acc: 0.0675\n",
      "Epoch 85/120\n",
      "516/515 [==============================] - 141s 274ms/step - loss: 0.1763 - acc: 0.9516 - val_loss: 11.7988 - val_acc: 0.0636\n",
      "Epoch 86/120\n",
      "516/515 [==============================] - 141s 274ms/step - loss: 0.1709 - acc: 0.9492 - val_loss: 11.7348 - val_acc: 0.0717\n",
      "Epoch 87/120\n",
      "516/515 [==============================] - 141s 273ms/step - loss: 0.1813 - acc: 0.9475 - val_loss: 11.6671 - val_acc: 0.0646\n",
      "Epoch 88/120\n",
      "516/515 [==============================] - 141s 274ms/step - loss: 0.1751 - acc: 0.9484 - val_loss: 11.7465 - val_acc: 0.0611\n",
      "Epoch 89/120\n",
      "516/515 [==============================] - 141s 273ms/step - loss: 0.1904 - acc: 0.9465 - val_loss: 11.7124 - val_acc: 0.0646\n",
      "Epoch 90/120\n",
      "516/515 [==============================] - 141s 273ms/step - loss: 0.1713 - acc: 0.9522 - val_loss: 11.7677 - val_acc: 0.0678\n",
      "Epoch 91/120\n",
      "516/515 [==============================] - 141s 274ms/step - loss: 0.1640 - acc: 0.9528 - val_loss: 11.8272 - val_acc: 0.0678\n",
      "Epoch 92/120\n",
      "516/515 [==============================] - 141s 274ms/step - loss: 0.1788 - acc: 0.9488 - val_loss: 11.7163 - val_acc: 0.0739\n",
      "Epoch 93/120\n",
      "516/515 [==============================] - 141s 273ms/step - loss: 0.1865 - acc: 0.9469 - val_loss: 11.7205 - val_acc: 0.0673\n",
      "Epoch 94/120\n",
      "516/515 [==============================] - 141s 273ms/step - loss: 0.1698 - acc: 0.9514 - val_loss: 11.8476 - val_acc: 0.0651\n",
      "Epoch 95/120\n",
      "516/515 [==============================] - 141s 274ms/step - loss: 0.1622 - acc: 0.9552 - val_loss: 11.9740 - val_acc: 0.0592\n",
      "Epoch 96/120\n",
      "516/515 [==============================] - 142s 275ms/step - loss: 0.1787 - acc: 0.9496 - val_loss: 11.8174 - val_acc: 0.0663\n",
      "Epoch 97/120\n",
      "516/515 [==============================] - 142s 275ms/step - loss: 0.1436 - acc: 0.9573 - val_loss: 12.0352 - val_acc: 0.0688\n",
      "Epoch 98/120\n",
      "516/515 [==============================] - 141s 273ms/step - loss: 0.1652 - acc: 0.9539 - val_loss: 11.9543 - val_acc: 0.0675\n",
      "Epoch 99/120\n",
      "516/515 [==============================] - 142s 275ms/step - loss: 0.1661 - acc: 0.9534 - val_loss: 11.8403 - val_acc: 0.0651\n",
      "Epoch 100/120\n",
      "516/515 [==============================] - 142s 274ms/step - loss: 0.1746 - acc: 0.9514 - val_loss: 11.7961 - val_acc: 0.0705\n",
      "Epoch 101/120\n",
      "516/515 [==============================] - 142s 274ms/step - loss: 0.1454 - acc: 0.9593 - val_loss: 11.8746 - val_acc: 0.0685\n",
      "Epoch 102/120\n",
      "516/515 [==============================] - 141s 274ms/step - loss: 0.1582 - acc: 0.9529 - val_loss: 12.0515 - val_acc: 0.0614\n",
      "Epoch 103/120\n",
      "516/515 [==============================] - 141s 273ms/step - loss: 0.1564 - acc: 0.9550 - val_loss: 12.0832 - val_acc: 0.0700\n",
      "Epoch 104/120\n",
      "516/515 [==============================] - 141s 274ms/step - loss: 0.1561 - acc: 0.9556 - val_loss: 12.1029 - val_acc: 0.0688\n",
      "Epoch 105/120\n",
      "516/515 [==============================] - 142s 275ms/step - loss: 0.1622 - acc: 0.9544 - val_loss: 11.9006 - val_acc: 0.0710\n",
      "Epoch 106/120\n",
      "516/515 [==============================] - 141s 274ms/step - loss: 0.1611 - acc: 0.9543 - val_loss: 11.9666 - val_acc: 0.0724\n",
      "Epoch 107/120\n",
      "516/515 [==============================] - 141s 273ms/step - loss: 0.1500 - acc: 0.9578 - val_loss: 11.9418 - val_acc: 0.0717\n",
      "Epoch 108/120\n",
      "516/515 [==============================] - 141s 274ms/step - loss: 0.1600 - acc: 0.9560 - val_loss: 12.0468 - val_acc: 0.0688\n",
      "Epoch 109/120\n",
      "516/515 [==============================] - 141s 274ms/step - loss: 0.1458 - acc: 0.9579 - val_loss: 12.0821 - val_acc: 0.0715\n",
      "Epoch 110/120\n",
      "516/515 [==============================] - 141s 274ms/step - loss: 0.1480 - acc: 0.9570 - val_loss: 12.1287 - val_acc: 0.0717\n",
      "Epoch 111/120\n",
      "516/515 [==============================] - 141s 273ms/step - loss: 0.1484 - acc: 0.9592 - val_loss: 11.9757 - val_acc: 0.0710\n",
      "Epoch 112/120\n",
      "516/515 [==============================] - 141s 273ms/step - loss: 0.1629 - acc: 0.9536 - val_loss: 12.0449 - val_acc: 0.0749\n",
      "Epoch 113/120\n",
      "516/515 [==============================] - 141s 274ms/step - loss: 0.1587 - acc: 0.9555 - val_loss: 11.9229 - val_acc: 0.0663\n",
      "Epoch 114/120\n",
      "516/515 [==============================] - 141s 273ms/step - loss: 0.1331 - acc: 0.9628 - val_loss: 12.0993 - val_acc: 0.0639\n",
      "Epoch 115/120\n",
      "516/515 [==============================] - 142s 275ms/step - loss: 0.1679 - acc: 0.9532 - val_loss: 11.9305 - val_acc: 0.0710\n",
      "Epoch 116/120\n",
      "516/515 [==============================] - 142s 274ms/step - loss: 0.1482 - acc: 0.9587 - val_loss: 12.1553 - val_acc: 0.0705\n",
      "Epoch 117/120\n",
      "516/515 [==============================] - 141s 273ms/step - loss: 0.1361 - acc: 0.9617 - val_loss: 12.0678 - val_acc: 0.0661\n",
      "Epoch 118/120\n",
      "516/515 [==============================] - 142s 274ms/step - loss: 0.1472 - acc: 0.9597 - val_loss: 11.9634 - val_acc: 0.0661\n"
     ]
    },
    {
     "name": "stdout",
     "output_type": "stream",
     "text": [
      "Epoch 119/120\n",
      "516/515 [==============================] - 141s 274ms/step - loss: 0.1535 - acc: 0.9577 - val_loss: 11.9905 - val_acc: 0.0754\n",
      "Epoch 120/120\n",
      "516/515 [==============================] - 141s 274ms/step - loss: 0.1510 - acc: 0.9594 - val_loss: 12.0523 - val_acc: 0.0707\n"
     ]
    }
   ],
   "source": [
    "classifier.fit_generator(train_generator, steps_per_epoch=steps_training, epochs=120, validation_data=test_generator, validation_steps=steps_test)\n",
    "classifier.save('model_typeDogs.h5')"
   ]
  },
  {
   "cell_type": "code",
   "execution_count": 16,
   "metadata": {},
   "outputs": [],
   "source": []
  },
  {
   "cell_type": "code",
   "execution_count": null,
   "metadata": {},
   "outputs": [],
   "source": []
  }
 ],
 "metadata": {
  "kernelspec": {
   "display_name": "Python 3",
   "language": "python",
   "name": "python3"
  },
  "language_info": {
   "codemirror_mode": {
    "name": "ipython",
    "version": 3
   },
   "file_extension": ".py",
   "mimetype": "text/x-python",
   "name": "python",
   "nbconvert_exporter": "python",
   "pygments_lexer": "ipython3",
   "version": "3.6.8"
  }
 },
 "nbformat": 4,
 "nbformat_minor": 2
}
